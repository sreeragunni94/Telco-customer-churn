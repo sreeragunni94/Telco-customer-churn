{
 "cells": [
  {
   "cell_type": "markdown",
   "id": "cc6efe9e-71f1-4f0b-b19c-3c2806c5932c",
   "metadata": {},
   "source": [
    "# Assignment: Predicting Customer Churn in a Telecom Company"
   ]
  },
  {
   "cell_type": "code",
   "execution_count": 79,
   "id": "a583f9de-319a-4eef-838a-8bf09ecddee6",
   "metadata": {},
   "outputs": [],
   "source": [
    "import numpy as np\n",
    "import pandas as pd\n",
    "import seaborn as sns\n",
    "import matplotlib.pyplot as plt\n",
    "%matplotlib inline"
   ]
  },
  {
   "cell_type": "code",
   "execution_count": 80,
   "id": "46596b13-cd31-4eeb-8a82-8d9b5854bd46",
   "metadata": {},
   "outputs": [],
   "source": [
    "telco_data = pd.read_csv(r\"C:\\Users\\SREERAG\\Downloads\\WA_Fn-UseC_-Telco-Customer-Churn.csv\")"
   ]
  },
  {
   "cell_type": "markdown",
   "id": "1ad787fc-bb6c-4b89-90e8-f5774eb63f4e",
   "metadata": {},
   "source": [
    "# Data Exploration and pre processing"
   ]
  },
  {
   "cell_type": "code",
   "execution_count": 81,
   "id": "2c5c5f9c-46d2-4c36-8cc0-da9839ddd791",
   "metadata": {},
   "outputs": [
    {
     "data": {
      "text/html": [
       "<div>\n",
       "<style scoped>\n",
       "    .dataframe tbody tr th:only-of-type {\n",
       "        vertical-align: middle;\n",
       "    }\n",
       "\n",
       "    .dataframe tbody tr th {\n",
       "        vertical-align: top;\n",
       "    }\n",
       "\n",
       "    .dataframe thead th {\n",
       "        text-align: right;\n",
       "    }\n",
       "</style>\n",
       "<table border=\"1\" class=\"dataframe\">\n",
       "  <thead>\n",
       "    <tr style=\"text-align: right;\">\n",
       "      <th></th>\n",
       "      <th>customerID</th>\n",
       "      <th>gender</th>\n",
       "      <th>SeniorCitizen</th>\n",
       "      <th>Partner</th>\n",
       "      <th>Dependents</th>\n",
       "      <th>tenure</th>\n",
       "      <th>PhoneService</th>\n",
       "      <th>MultipleLines</th>\n",
       "      <th>InternetService</th>\n",
       "      <th>OnlineSecurity</th>\n",
       "      <th>...</th>\n",
       "      <th>DeviceProtection</th>\n",
       "      <th>TechSupport</th>\n",
       "      <th>StreamingTV</th>\n",
       "      <th>StreamingMovies</th>\n",
       "      <th>Contract</th>\n",
       "      <th>PaperlessBilling</th>\n",
       "      <th>PaymentMethod</th>\n",
       "      <th>MonthlyCharges</th>\n",
       "      <th>TotalCharges</th>\n",
       "      <th>Churn</th>\n",
       "    </tr>\n",
       "  </thead>\n",
       "  <tbody>\n",
       "    <tr>\n",
       "      <th>0</th>\n",
       "      <td>7590-VHVEG</td>\n",
       "      <td>Female</td>\n",
       "      <td>0</td>\n",
       "      <td>Yes</td>\n",
       "      <td>No</td>\n",
       "      <td>1</td>\n",
       "      <td>No</td>\n",
       "      <td>No phone service</td>\n",
       "      <td>DSL</td>\n",
       "      <td>No</td>\n",
       "      <td>...</td>\n",
       "      <td>No</td>\n",
       "      <td>No</td>\n",
       "      <td>No</td>\n",
       "      <td>No</td>\n",
       "      <td>Month-to-month</td>\n",
       "      <td>Yes</td>\n",
       "      <td>Electronic check</td>\n",
       "      <td>29.85</td>\n",
       "      <td>29.85</td>\n",
       "      <td>No</td>\n",
       "    </tr>\n",
       "    <tr>\n",
       "      <th>1</th>\n",
       "      <td>5575-GNVDE</td>\n",
       "      <td>Male</td>\n",
       "      <td>0</td>\n",
       "      <td>No</td>\n",
       "      <td>No</td>\n",
       "      <td>34</td>\n",
       "      <td>Yes</td>\n",
       "      <td>No</td>\n",
       "      <td>DSL</td>\n",
       "      <td>Yes</td>\n",
       "      <td>...</td>\n",
       "      <td>Yes</td>\n",
       "      <td>No</td>\n",
       "      <td>No</td>\n",
       "      <td>No</td>\n",
       "      <td>One year</td>\n",
       "      <td>No</td>\n",
       "      <td>Mailed check</td>\n",
       "      <td>56.95</td>\n",
       "      <td>1889.5</td>\n",
       "      <td>No</td>\n",
       "    </tr>\n",
       "    <tr>\n",
       "      <th>2</th>\n",
       "      <td>3668-QPYBK</td>\n",
       "      <td>Male</td>\n",
       "      <td>0</td>\n",
       "      <td>No</td>\n",
       "      <td>No</td>\n",
       "      <td>2</td>\n",
       "      <td>Yes</td>\n",
       "      <td>No</td>\n",
       "      <td>DSL</td>\n",
       "      <td>Yes</td>\n",
       "      <td>...</td>\n",
       "      <td>No</td>\n",
       "      <td>No</td>\n",
       "      <td>No</td>\n",
       "      <td>No</td>\n",
       "      <td>Month-to-month</td>\n",
       "      <td>Yes</td>\n",
       "      <td>Mailed check</td>\n",
       "      <td>53.85</td>\n",
       "      <td>108.15</td>\n",
       "      <td>Yes</td>\n",
       "    </tr>\n",
       "    <tr>\n",
       "      <th>3</th>\n",
       "      <td>7795-CFOCW</td>\n",
       "      <td>Male</td>\n",
       "      <td>0</td>\n",
       "      <td>No</td>\n",
       "      <td>No</td>\n",
       "      <td>45</td>\n",
       "      <td>No</td>\n",
       "      <td>No phone service</td>\n",
       "      <td>DSL</td>\n",
       "      <td>Yes</td>\n",
       "      <td>...</td>\n",
       "      <td>Yes</td>\n",
       "      <td>Yes</td>\n",
       "      <td>No</td>\n",
       "      <td>No</td>\n",
       "      <td>One year</td>\n",
       "      <td>No</td>\n",
       "      <td>Bank transfer (automatic)</td>\n",
       "      <td>42.30</td>\n",
       "      <td>1840.75</td>\n",
       "      <td>No</td>\n",
       "    </tr>\n",
       "    <tr>\n",
       "      <th>4</th>\n",
       "      <td>9237-HQITU</td>\n",
       "      <td>Female</td>\n",
       "      <td>0</td>\n",
       "      <td>No</td>\n",
       "      <td>No</td>\n",
       "      <td>2</td>\n",
       "      <td>Yes</td>\n",
       "      <td>No</td>\n",
       "      <td>Fiber optic</td>\n",
       "      <td>No</td>\n",
       "      <td>...</td>\n",
       "      <td>No</td>\n",
       "      <td>No</td>\n",
       "      <td>No</td>\n",
       "      <td>No</td>\n",
       "      <td>Month-to-month</td>\n",
       "      <td>Yes</td>\n",
       "      <td>Electronic check</td>\n",
       "      <td>70.70</td>\n",
       "      <td>151.65</td>\n",
       "      <td>Yes</td>\n",
       "    </tr>\n",
       "  </tbody>\n",
       "</table>\n",
       "<p>5 rows × 21 columns</p>\n",
       "</div>"
      ],
      "text/plain": [
       "   customerID  gender  SeniorCitizen Partner Dependents  tenure PhoneService  \\\n",
       "0  7590-VHVEG  Female              0     Yes         No       1           No   \n",
       "1  5575-GNVDE    Male              0      No         No      34          Yes   \n",
       "2  3668-QPYBK    Male              0      No         No       2          Yes   \n",
       "3  7795-CFOCW    Male              0      No         No      45           No   \n",
       "4  9237-HQITU  Female              0      No         No       2          Yes   \n",
       "\n",
       "      MultipleLines InternetService OnlineSecurity  ... DeviceProtection  \\\n",
       "0  No phone service             DSL             No  ...               No   \n",
       "1                No             DSL            Yes  ...              Yes   \n",
       "2                No             DSL            Yes  ...               No   \n",
       "3  No phone service             DSL            Yes  ...              Yes   \n",
       "4                No     Fiber optic             No  ...               No   \n",
       "\n",
       "  TechSupport StreamingTV StreamingMovies        Contract PaperlessBilling  \\\n",
       "0          No          No              No  Month-to-month              Yes   \n",
       "1          No          No              No        One year               No   \n",
       "2          No          No              No  Month-to-month              Yes   \n",
       "3         Yes          No              No        One year               No   \n",
       "4          No          No              No  Month-to-month              Yes   \n",
       "\n",
       "               PaymentMethod MonthlyCharges  TotalCharges Churn  \n",
       "0           Electronic check          29.85         29.85    No  \n",
       "1               Mailed check          56.95        1889.5    No  \n",
       "2               Mailed check          53.85        108.15   Yes  \n",
       "3  Bank transfer (automatic)          42.30       1840.75    No  \n",
       "4           Electronic check          70.70        151.65   Yes  \n",
       "\n",
       "[5 rows x 21 columns]"
      ]
     },
     "execution_count": 81,
     "metadata": {},
     "output_type": "execute_result"
    }
   ],
   "source": [
    "telco_data.head()"
   ]
  },
  {
   "cell_type": "code",
   "execution_count": 82,
   "id": "d10656c7-7e50-445a-b468-d65fef882126",
   "metadata": {},
   "outputs": [
    {
     "name": "stdout",
     "output_type": "stream",
     "text": [
      "<class 'pandas.core.frame.DataFrame'>\n",
      "RangeIndex: 7043 entries, 0 to 7042\n",
      "Data columns (total 21 columns):\n",
      " #   Column            Non-Null Count  Dtype  \n",
      "---  ------            --------------  -----  \n",
      " 0   customerID        7043 non-null   object \n",
      " 1   gender            7043 non-null   object \n",
      " 2   SeniorCitizen     7043 non-null   int64  \n",
      " 3   Partner           7043 non-null   object \n",
      " 4   Dependents        7043 non-null   object \n",
      " 5   tenure            7043 non-null   int64  \n",
      " 6   PhoneService      7043 non-null   object \n",
      " 7   MultipleLines     7043 non-null   object \n",
      " 8   InternetService   7043 non-null   object \n",
      " 9   OnlineSecurity    7043 non-null   object \n",
      " 10  OnlineBackup      7043 non-null   object \n",
      " 11  DeviceProtection  7043 non-null   object \n",
      " 12  TechSupport       7043 non-null   object \n",
      " 13  StreamingTV       7043 non-null   object \n",
      " 14  StreamingMovies   7043 non-null   object \n",
      " 15  Contract          7043 non-null   object \n",
      " 16  PaperlessBilling  7043 non-null   object \n",
      " 17  PaymentMethod     7043 non-null   object \n",
      " 18  MonthlyCharges    7043 non-null   float64\n",
      " 19  TotalCharges      7043 non-null   object \n",
      " 20  Churn             7043 non-null   object \n",
      "dtypes: float64(1), int64(2), object(18)\n",
      "memory usage: 1.1+ MB\n"
     ]
    }
   ],
   "source": [
    "# Exploring the overall structure of the dataset\n",
    "telco_data.info()"
   ]
  },
  {
   "cell_type": "code",
   "execution_count": 83,
   "id": "473db425-4d7d-41d0-b252-d831d074b8e4",
   "metadata": {},
   "outputs": [
    {
     "data": {
      "text/html": [
       "<div>\n",
       "<style scoped>\n",
       "    .dataframe tbody tr th:only-of-type {\n",
       "        vertical-align: middle;\n",
       "    }\n",
       "\n",
       "    .dataframe tbody tr th {\n",
       "        vertical-align: top;\n",
       "    }\n",
       "\n",
       "    .dataframe thead th {\n",
       "        text-align: right;\n",
       "    }\n",
       "</style>\n",
       "<table border=\"1\" class=\"dataframe\">\n",
       "  <thead>\n",
       "    <tr style=\"text-align: right;\">\n",
       "      <th></th>\n",
       "      <th>SeniorCitizen</th>\n",
       "      <th>tenure</th>\n",
       "      <th>MonthlyCharges</th>\n",
       "    </tr>\n",
       "  </thead>\n",
       "  <tbody>\n",
       "    <tr>\n",
       "      <th>count</th>\n",
       "      <td>7043.000000</td>\n",
       "      <td>7043.000000</td>\n",
       "      <td>7043.000000</td>\n",
       "    </tr>\n",
       "    <tr>\n",
       "      <th>mean</th>\n",
       "      <td>0.162147</td>\n",
       "      <td>32.371149</td>\n",
       "      <td>64.761692</td>\n",
       "    </tr>\n",
       "    <tr>\n",
       "      <th>std</th>\n",
       "      <td>0.368612</td>\n",
       "      <td>24.559481</td>\n",
       "      <td>30.090047</td>\n",
       "    </tr>\n",
       "    <tr>\n",
       "      <th>min</th>\n",
       "      <td>0.000000</td>\n",
       "      <td>0.000000</td>\n",
       "      <td>18.250000</td>\n",
       "    </tr>\n",
       "    <tr>\n",
       "      <th>25%</th>\n",
       "      <td>0.000000</td>\n",
       "      <td>9.000000</td>\n",
       "      <td>35.500000</td>\n",
       "    </tr>\n",
       "    <tr>\n",
       "      <th>50%</th>\n",
       "      <td>0.000000</td>\n",
       "      <td>29.000000</td>\n",
       "      <td>70.350000</td>\n",
       "    </tr>\n",
       "    <tr>\n",
       "      <th>75%</th>\n",
       "      <td>0.000000</td>\n",
       "      <td>55.000000</td>\n",
       "      <td>89.850000</td>\n",
       "    </tr>\n",
       "    <tr>\n",
       "      <th>max</th>\n",
       "      <td>1.000000</td>\n",
       "      <td>72.000000</td>\n",
       "      <td>118.750000</td>\n",
       "    </tr>\n",
       "  </tbody>\n",
       "</table>\n",
       "</div>"
      ],
      "text/plain": [
       "       SeniorCitizen       tenure  MonthlyCharges\n",
       "count    7043.000000  7043.000000     7043.000000\n",
       "mean        0.162147    32.371149       64.761692\n",
       "std         0.368612    24.559481       30.090047\n",
       "min         0.000000     0.000000       18.250000\n",
       "25%         0.000000     9.000000       35.500000\n",
       "50%         0.000000    29.000000       70.350000\n",
       "75%         0.000000    55.000000       89.850000\n",
       "max         1.000000    72.000000      118.750000"
      ]
     },
     "execution_count": 83,
     "metadata": {},
     "output_type": "execute_result"
    }
   ],
   "source": [
    "# Key statistics of the dataset\n",
    "telco_data.describe()"
   ]
  },
  {
   "cell_type": "code",
   "execution_count": 84,
   "id": "d52b0523-45e0-4afd-ba07-d4873a7dd5ed",
   "metadata": {},
   "outputs": [
    {
     "data": {
      "text/plain": [
       "customerID          0\n",
       "gender              0\n",
       "SeniorCitizen       0\n",
       "Partner             0\n",
       "Dependents          0\n",
       "tenure              0\n",
       "PhoneService        0\n",
       "MultipleLines       0\n",
       "InternetService     0\n",
       "OnlineSecurity      0\n",
       "OnlineBackup        0\n",
       "DeviceProtection    0\n",
       "TechSupport         0\n",
       "StreamingTV         0\n",
       "StreamingMovies     0\n",
       "Contract            0\n",
       "PaperlessBilling    0\n",
       "PaymentMethod       0\n",
       "MonthlyCharges      0\n",
       "TotalCharges        0\n",
       "Churn               0\n",
       "dtype: int64"
      ]
     },
     "execution_count": 84,
     "metadata": {},
     "output_type": "execute_result"
    }
   ],
   "source": [
    "# Checking for missing values\n",
    "telco_data.isnull().sum()"
   ]
  },
  {
   "cell_type": "markdown",
   "id": "d2d641b4-c875-4a21-b7a9-4e6d7a423562",
   "metadata": {},
   "source": [
    "Anomalies:\n",
    "\n",
    "The TotalCharges column is of type object and may contain non-numeric values or whitespace, which needs to be investigated and converted."
   ]
  },
  {
   "cell_type": "code",
   "execution_count": 85,
   "id": "1aa68a49-3925-4238-97ff-24f3b4f23372",
   "metadata": {},
   "outputs": [],
   "source": [
    "# Investigate and handle non-numeric values or whitespace in the 'TotalCharges' column\n",
    "# Convert 'TotalCharges' to numeric, forcing errors to NaN\n",
    "telco_data['TotalCharges'] = pd.to_numeric(telco_data['TotalCharges'], errors='coerce')"
   ]
  },
  {
   "cell_type": "code",
   "execution_count": 86,
   "id": "36732c74-07ee-4a99-9fa3-c80bf26056be",
   "metadata": {},
   "outputs": [],
   "source": [
    "# Check for any NaN values created in 'TotalCharges' after conversion\n",
    "totalcharges_missing = telco_data['TotalCharges'].isna().sum()"
   ]
  },
  {
   "cell_type": "code",
   "execution_count": 87,
   "id": "bf505e03-e879-45c6-9178-7bba34bf4e7e",
   "metadata": {},
   "outputs": [],
   "source": [
    "# Display the rows where 'TotalCharges' is NaN\n",
    "missing_totalcharges_rows = telco_data[telco_data['TotalCharges'].isna()]"
   ]
  },
  {
   "cell_type": "code",
   "execution_count": 88,
   "id": "dbe7ba83-4e83-4087-af87-7f91033fd44b",
   "metadata": {},
   "outputs": [
    {
     "data": {
      "text/plain": [
       "(11,\n",
       "       customerID  gender  SeniorCitizen Partner Dependents  tenure  \\\n",
       " 488   4472-LVYGI  Female              0     Yes        Yes       0   \n",
       " 753   3115-CZMZD    Male              0      No        Yes       0   \n",
       " 936   5709-LVOEQ  Female              0     Yes        Yes       0   \n",
       " 1082  4367-NUYAO    Male              0     Yes        Yes       0   \n",
       " 1340  1371-DWPAZ  Female              0     Yes        Yes       0   \n",
       " 3331  7644-OMVMY    Male              0     Yes        Yes       0   \n",
       " 3826  3213-VVOLG    Male              0     Yes        Yes       0   \n",
       " 4380  2520-SGTTA  Female              0     Yes        Yes       0   \n",
       " 5218  2923-ARZLG    Male              0     Yes        Yes       0   \n",
       " 6670  4075-WKNIU  Female              0     Yes        Yes       0   \n",
       " 6754  2775-SEFEE    Male              0      No        Yes       0   \n",
       " \n",
       "      PhoneService     MultipleLines InternetService       OnlineSecurity  ...  \\\n",
       " 488            No  No phone service             DSL                  Yes  ...   \n",
       " 753           Yes                No              No  No internet service  ...   \n",
       " 936           Yes                No             DSL                  Yes  ...   \n",
       " 1082          Yes               Yes              No  No internet service  ...   \n",
       " 1340           No  No phone service             DSL                  Yes  ...   \n",
       " 3331          Yes                No              No  No internet service  ...   \n",
       " 3826          Yes               Yes              No  No internet service  ...   \n",
       " 4380          Yes                No              No  No internet service  ...   \n",
       " 5218          Yes                No              No  No internet service  ...   \n",
       " 6670          Yes               Yes             DSL                   No  ...   \n",
       " 6754          Yes               Yes             DSL                  Yes  ...   \n",
       " \n",
       "          DeviceProtection          TechSupport          StreamingTV  \\\n",
       " 488                   Yes                  Yes                  Yes   \n",
       " 753   No internet service  No internet service  No internet service   \n",
       " 936                   Yes                   No                  Yes   \n",
       " 1082  No internet service  No internet service  No internet service   \n",
       " 1340                  Yes                  Yes                  Yes   \n",
       " 3331  No internet service  No internet service  No internet service   \n",
       " 3826  No internet service  No internet service  No internet service   \n",
       " 4380  No internet service  No internet service  No internet service   \n",
       " 5218  No internet service  No internet service  No internet service   \n",
       " 6670                  Yes                  Yes                  Yes   \n",
       " 6754                   No                  Yes                   No   \n",
       " \n",
       "           StreamingMovies  Contract PaperlessBilling  \\\n",
       " 488                    No  Two year              Yes   \n",
       " 753   No internet service  Two year               No   \n",
       " 936                   Yes  Two year               No   \n",
       " 1082  No internet service  Two year               No   \n",
       " 1340                   No  Two year               No   \n",
       " 3331  No internet service  Two year               No   \n",
       " 3826  No internet service  Two year               No   \n",
       " 4380  No internet service  Two year               No   \n",
       " 5218  No internet service  One year              Yes   \n",
       " 6670                   No  Two year               No   \n",
       " 6754                   No  Two year              Yes   \n",
       " \n",
       "                   PaymentMethod MonthlyCharges  TotalCharges  Churn  \n",
       " 488   Bank transfer (automatic)          52.55           NaN     No  \n",
       " 753                Mailed check          20.25           NaN     No  \n",
       " 936                Mailed check          80.85           NaN     No  \n",
       " 1082               Mailed check          25.75           NaN     No  \n",
       " 1340    Credit card (automatic)          56.05           NaN     No  \n",
       " 3331               Mailed check          19.85           NaN     No  \n",
       " 3826               Mailed check          25.35           NaN     No  \n",
       " 4380               Mailed check          20.00           NaN     No  \n",
       " 5218               Mailed check          19.70           NaN     No  \n",
       " 6670               Mailed check          73.35           NaN     No  \n",
       " 6754  Bank transfer (automatic)          61.90           NaN     No  \n",
       " \n",
       " [11 rows x 21 columns])"
      ]
     },
     "execution_count": 88,
     "metadata": {},
     "output_type": "execute_result"
    }
   ],
   "source": [
    "totalcharges_missing, missing_totalcharges_rows"
   ]
  },
  {
   "cell_type": "markdown",
   "id": "94e541e4-f783-4492-80f8-22d9db655457",
   "metadata": {},
   "source": [
    "After converting the TotalCharges column to numeric values, 11 rows were found to have missing values (NaN).\n",
    "These missing values occur where tenure is 0, which likely means the customers had just signed up and didn't have any accumulated charges yet."
   ]
  },
  {
   "cell_type": "markdown",
   "id": "ffb21eee-9375-4bec-b2d4-a2ad9dda6cd1",
   "metadata": {},
   "source": [
    " Imputing with the median is a good choice for numerical data, especially when the data distribution may be skewed. The median is less affected by extreme values compared to the mean, making it a more robust imputation method.By imputing these values, we avoid losing data points that could be valuable for our churn analysis, thus retaining a larger dataset for building the predictive model."
   ]
  },
  {
   "cell_type": "code",
   "execution_count": 89,
   "id": "637347f5-48b0-4b70-8298-294ccc2f2940",
   "metadata": {},
   "outputs": [],
   "source": [
    "# Impute missing 'TotalCharges' values with the median value of the column\n",
    "median_totalcharges = telco_data['TotalCharges'].median()\n",
    "telco_data['TotalCharges'].fillna(median_totalcharges, inplace=True)\n",
    "\n",
    "# Verify that there are no more missing values in 'TotalCharges'\n",
    "missing_values_after_imputation = telco_data['TotalCharges'].isna().sum()"
   ]
  },
  {
   "cell_type": "code",
   "execution_count": 90,
   "id": "7a04606a-19a4-4a25-a275-1b73f0d296ec",
   "metadata": {},
   "outputs": [
    {
     "data": {
      "text/plain": [
       "0"
      ]
     },
     "execution_count": 90,
     "metadata": {},
     "output_type": "execute_result"
    }
   ],
   "source": [
    "missing_values_after_imputation"
   ]
  },
  {
   "cell_type": "code",
   "execution_count": 91,
   "id": "18668774-2aed-4a28-bf9c-99bf496367ee",
   "metadata": {},
   "outputs": [
    {
     "data": {
      "text/plain": [
       "<Figure size 1400x600 with 0 Axes>"
      ]
     },
     "execution_count": 91,
     "metadata": {},
     "output_type": "execute_result"
    },
    {
     "data": {
      "text/plain": [
       "<Figure size 1400x600 with 0 Axes>"
      ]
     },
     "metadata": {},
     "output_type": "display_data"
    }
   ],
   "source": [
    "# Plot boxplots to visualize potential outliers in 'MonthlyCharges' and 'TotalCharges'\n",
    "plt.figure(figsize=(14, 6))"
   ]
  },
  {
   "cell_type": "code",
   "execution_count": 92,
   "id": "38273473-6bf8-4d22-b50d-67c541e74f55",
   "metadata": {},
   "outputs": [
    {
     "data": {
      "text/plain": [
       "Text(0, 0.5, 'TotalCharges')"
      ]
     },
     "execution_count": 92,
     "metadata": {},
     "output_type": "execute_result"
    },
    {
     "data": {
      "image/png": "[encoded data removed]",
      "text/plain": [
       "<Figure size 640x480 with 2 Axes>"
      ]
     },
     "metadata": {},
     "output_type": "display_data"
    }
   ],
   "source": [
    "# Boxplot for MonthlyCharges\n",
    "plt.subplot(1, 2, 1)\n",
    "sns.boxplot(y=telco_data['MonthlyCharges'])\n",
    "plt.title('Boxplot for MonthlyCharges')\n",
    "plt.ylabel('MonthlyCharges')\n",
    "\n",
    "# Boxplot for TotalCharges\n",
    "plt.subplot(1, 2, 2)\n",
    "sns.boxplot(y=telco_data['TotalCharges'])\n",
    "plt.title('Boxplot for TotalCharges')\n",
    "plt.ylabel('TotalCharges')"
   ]
  },
  {
   "cell_type": "code",
   "execution_count": 93,
   "id": "ab1ad5ab-41ea-4974-87e5-321427cd38f1",
   "metadata": {},
   "outputs": [
    {
     "data": {
      "text/plain": [
       "<Figure size 640x480 with 0 Axes>"
      ]
     },
     "metadata": {},
     "output_type": "display_data"
    }
   ],
   "source": [
    "plt.tight_layout()\n",
    "plt.show()"
   ]
  },
  {
   "cell_type": "markdown",
   "id": "004a3608-2385-4aa9-aa39-d19d061e7269",
   "metadata": {},
   "source": [
    "Visual Inspection: Based on the earlier boxplots, MonthlyCharges and TotalCharges contain some extreme values that appear as potential outliers."
   ]
  },
  {
   "cell_type": "markdown",
   "id": "a010b908-edcc-4a9f-a04a-53c1afeb7655",
   "metadata": {},
   "source": [
    "For MonthlyCharges and TotalCharges, I will clip the values that are beyond the 99th percentile. This approach, called winsorization, helps to minimize the impact of extreme outliers without completely removing data points."
   ]
  },
  {
   "cell_type": "code",
   "execution_count": 94,
   "id": "5a2fbb3b-19d8-45b7-bb2f-63d1e7b812d3",
   "metadata": {},
   "outputs": [],
   "source": [
    "# Calculate the 99th percentile for 'MonthlyCharges' and 'TotalCharges'\n",
    "monthlycharges_99 = telco_data['MonthlyCharges'].quantile(0.99)\n",
    "totalcharges_99 = telco_data['TotalCharges'].quantile(0.99)"
   ]
  },
  {
   "cell_type": "code",
   "execution_count": 95,
   "id": "fa20cbcd-6bb4-4371-bf94-586ee8693d83",
   "metadata": {},
   "outputs": [],
   "source": [
    "# Clip values beyond the 99th percentile\n",
    "telco_data['MonthlyCharges'] = telco_data['MonthlyCharges'].clip(upper=monthlycharges_99)\n",
    "telco_data['TotalCharges'] = telco_data['TotalCharges'].clip(upper=totalcharges_99)"
   ]
  },
  {
   "cell_type": "code",
   "execution_count": 96,
   "id": "44a97769-bafc-4670-980e-ddac9024b9a2",
   "metadata": {},
   "outputs": [
    {
     "data": {
      "text/plain": [
       "<Figure size 1400x600 with 0 Axes>"
      ]
     },
     "execution_count": 96,
     "metadata": {},
     "output_type": "execute_result"
    },
    {
     "data": {
      "text/plain": [
       "<Figure size 1400x600 with 0 Axes>"
      ]
     },
     "metadata": {},
     "output_type": "display_data"
    }
   ],
   "source": [
    "# Verify the changes by plotting boxplots again\n",
    "plt.figure(figsize=(14, 6))"
   ]
  },
  {
   "cell_type": "code",
   "execution_count": 97,
   "id": "582e62d9-d71c-4355-89c2-ba18dbfe43f0",
   "metadata": {},
   "outputs": [
    {
     "data": {
      "image/png": "[encoded data removed]",
      "text/plain": [
       "<Figure size 640x480 with 2 Axes>"
      ]
     },
     "metadata": {},
     "output_type": "display_data"
    }
   ],
   "source": [
    "# Boxplot for MonthlyCharges after clipping\n",
    "plt.subplot(1, 2, 1)\n",
    "sns.boxplot(y=telco_data['MonthlyCharges'])\n",
    "plt.title('Boxplot for MonthlyCharges (After Clipping)')\n",
    "plt.ylabel('MonthlyCharges')\n",
    "\n",
    "# Boxplot for TotalCharges after clipping\n",
    "plt.subplot(1, 2, 2)\n",
    "sns.boxplot(y=telco_data['TotalCharges'])\n",
    "plt.title('Boxplot for TotalCharges (After Clipping)')\n",
    "plt.ylabel('TotalCharges')\n",
    "\n",
    "plt.tight_layout()\n",
    "plt.show()"
   ]
  },
  {
   "cell_type": "markdown",
   "id": "ae92ed96-219c-457f-8d85-73fd9feb6864",
   "metadata": {},
   "source": [
    "The boxplots for MonthlyCharges and TotalCharges after clipping to the 99th percentile show reduced extreme values, making the distributions less affected by outliers. This should help improve model stability and accuracy."
   ]
  },
  {
   "cell_type": "markdown",
   "id": "2df253c2-4947-4a9a-983d-b97cf9c76f7e",
   "metadata": {},
   "source": [
    "# Feature Engineering"
   ]
  },
  {
   "cell_type": "code",
   "execution_count": 98,
   "id": "4af436af-bb67-48e2-98ce-261b7c210f34",
   "metadata": {},
   "outputs": [],
   "source": [
    "# Step 1: Feature Engineering - Create tenure groups\n",
    "def tenure_group(tenure):\n",
    "    if tenure <= 12:\n",
    "        return 'Short-term'\n",
    "    elif 12 < tenure <= 48:\n",
    "        return 'Mid-term'\n",
    "    else:\n",
    "        return 'Long-term'\n",
    "\n",
    "# Create a new column 'tenure_group'\n",
    "telco_data['tenure_group'] = telco_data['tenure'].apply(tenure_group)"
   ]
  },
  {
   "cell_type": "code",
   "execution_count": 99,
   "id": "48535ced-f113-4861-83de-c8fbae765d38",
   "metadata": {},
   "outputs": [],
   "source": [
    "# Step 2: Select features that could be relevant for predicting churn\n",
    "# Dropping 'customerID' as it is not useful for prediction\n",
    "features = telco_data.drop(['customerID', 'Churn'], axis=1)\n",
    "target = telco_data['Churn']"
   ]
  },
  {
   "cell_type": "code",
   "execution_count": 100,
   "id": "1fb0ee26-82ce-4ae2-9131-d9cc75988260",
   "metadata": {},
   "outputs": [],
   "source": [
    "# Step 3: Encoding categorical variables\n",
    "# Defining categorical and numerical columns\n",
    "categorical_features = features.select_dtypes(include=['object']).columns.tolist()"
   ]
  },
  {
   "cell_type": "code",
   "execution_count": 101,
   "id": "2585cf14-4916-4fd3-8aa2-5b1ae206138b",
   "metadata": {},
   "outputs": [],
   "source": [
    "# Adding 'tenure_group' explicitly since we created it\n",
    "categorical_features.append('tenure_group')"
   ]
  },
  {
   "cell_type": "code",
   "execution_count": 102,
   "id": "50d4eb5e-95b1-4600-a889-0416442c1bb6",
   "metadata": {},
   "outputs": [],
   "source": [
    "# Defining numerical features\n",
    "numerical_features = ['SeniorCitizen', 'tenure', 'MonthlyCharges', 'TotalCharges']"
   ]
  },
  {
   "cell_type": "code",
   "execution_count": 103,
   "id": "f13c8660-cb6e-4da6-8a76-0120705d8a23",
   "metadata": {},
   "outputs": [],
   "source": [
    "# Step 4: Building a ColumnTransformer for encoding and scaling\n",
    "# OneHotEncode categorical variables and scale numerical features\n",
    "from sklearn.compose import ColumnTransformer\n",
    "from sklearn.preprocessing import StandardScaler\n",
    "from sklearn.preprocessing import OneHotEncoder\n",
    "from sklearn.pipeline import Pipeline\n",
    "preprocessor = ColumnTransformer(\n",
    "    transformers=[\n",
    "        ('num', StandardScaler(), numerical_features),\n",
    "        ('cat', OneHotEncoder(), categorical_features)\n",
    "    ])"
   ]
  },
  {
   "cell_type": "code",
   "execution_count": 104,
   "id": "29b416d5-35f6-42b4-8319-f1da20fb8f63",
   "metadata": {},
   "outputs": [],
   "source": [
    "# Creating a pipeline for data preprocessing\n",
    "pipeline = Pipeline(steps=[\n",
    "    ('preprocessor', preprocessor)\n",
    "])"
   ]
  },
  {
   "cell_type": "code",
   "execution_count": 105,
   "id": "691be01f-82bf-4187-82f4-63cb0a602e92",
   "metadata": {},
   "outputs": [],
   "source": [
    "# Apply the transformations to the features\n",
    "processed_features = pipeline.fit_transform(features)"
   ]
  },
  {
   "cell_type": "code",
   "execution_count": 106,
   "id": "a0649e97-7eaf-46b9-9aac-ad3c6ab82ed9",
   "metadata": {},
   "outputs": [
    {
     "data": {
      "text/plain": [
       "(7043, 51)"
      ]
     },
     "execution_count": 106,
     "metadata": {},
     "output_type": "execute_result"
    }
   ],
   "source": [
    "processed_features.shape"
   ]
  },
  {
   "cell_type": "markdown",
   "id": "76534199-fdfc-49f5-9511-029df65b0870",
   "metadata": {},
   "source": [
    "feature preprocessing has been successfully completed, resulting in 51 transformed features for 7,043 customers."
   ]
  },
  {
   "cell_type": "markdown",
   "id": "e61b279a-441c-4ae7-924d-227f0c723aab",
   "metadata": {},
   "source": [
    "The feature engineering process aimed to enhance the predictive power of the model by making features more informative and suitable for machine learning algorithms. Derived features like tenure_group capture relationships that raw numerical data might miss, while proper encoding and scaling ensure that all variables contribute fairly to the model. Handling missing values and outliers also improves data quality, ensuring reliable training outcomes."
   ]
  },
  {
   "cell_type": "markdown",
   "id": "ffbf2498-838e-4f11-94c9-f79cc5df5bf2",
   "metadata": {},
   "source": [
    "# Model Development"
   ]
  },
  {
   "cell_type": "code",
   "execution_count": 107,
   "id": "5b4e426b-e866-427a-aaf9-eebe6364102b",
   "metadata": {},
   "outputs": [],
   "source": [
    "from sklearn.model_selection import train_test_split\n",
    "from sklearn.linear_model import LogisticRegression\n",
    "from sklearn.ensemble import RandomForestClassifier\n",
    "from sklearn.svm import SVC\n",
    "from sklearn.metrics import classification_report, accuracy_score\n",
    "import xgboost as xgb"
   ]
  },
  {
   "cell_type": "code",
   "execution_count": 108,
   "id": "c2d18781-ea2b-4c33-b1ca-54708db301b8",
   "metadata": {},
   "outputs": [],
   "source": [
    "# Step 1: Split data into training and test sets\n",
    "X_train, X_test, y_train, y_test = train_test_split(processed_features, target, test_size=0.3, random_state=42)"
   ]
  },
  {
   "cell_type": "code",
   "execution_count": 109,
   "id": "07cef29f-fd96-4b24-a537-66903b83e45b",
   "metadata": {},
   "outputs": [],
   "source": [
    "# Step 2: Train and evaluate different models\n",
    "# Dictionary to store models and their results\n",
    "model_results = {}"
   ]
  },
  {
   "cell_type": "code",
   "execution_count": 110,
   "id": "9d80eb8f-7374-4f43-8c67-86003f7d10ea",
   "metadata": {},
   "outputs": [],
   "source": [
    "# Logistic Regression\n",
    "logistic_model = LogisticRegression(max_iter=1000, random_state=42)\n",
    "logistic_model.fit(X_train, y_train)\n",
    "y_pred_logistic = logistic_model.predict(X_test)\n",
    "model_results['Logistic Regression'] = {\n",
    "    'accuracy': accuracy_score(y_test, y_pred_logistic),\n",
    "    'classification_report': classification_report(y_test, y_pred_logistic)\n",
    "}"
   ]
  },
  {
   "cell_type": "code",
   "execution_count": 111,
   "id": "2f736420-89b7-4163-99d0-73ffbba7a0b9",
   "metadata": {},
   "outputs": [],
   "source": [
    "# Random Forest Classifier\n",
    "rf_model = RandomForestClassifier(n_estimators=100, random_state=42)\n",
    "rf_model.fit(X_train, y_train)\n",
    "y_pred_rf = rf_model.predict(X_test)\n",
    "model_results['Random Forest'] = {\n",
    "    'accuracy': accuracy_score(y_test, y_pred_rf),\n",
    "    'classification_report': classification_report(y_test, y_pred_rf)\n",
    "}"
   ]
  },
  {
   "cell_type": "code",
   "execution_count": 112,
   "id": "8c7b4ad9-16f9-437d-9b2c-ef004bb8ad17",
   "metadata": {},
   "outputs": [],
   "source": [
    "# Support Vector Machine (SVM)\n",
    "svm_model = SVC(random_state=42)\n",
    "svm_model.fit(X_train, y_train)\n",
    "y_pred_svm = svm_model.predict(X_test)\n",
    "model_results['SVM'] = {\n",
    "    'accuracy': accuracy_score(y_test, y_pred_svm),\n",
    "    'classification_report': classification_report(y_test, y_pred_svm)\n",
    "}"
   ]
  },
  {
   "cell_type": "code",
   "execution_count": 113,
   "id": "e04c7a8d-1042-4a9c-8d7d-c8b0e3fcd2c2",
   "metadata": {},
   "outputs": [],
   "source": [
    "# Convert the target variable to binary values: 'Yes' -> 1, 'No' -> 0\n",
    "target_binary = target.apply(lambda x: 1 if x == 'Yes' else 0)"
   ]
  },
  {
   "cell_type": "code",
   "execution_count": 114,
   "id": "f519d694-02c3-4d59-9bc7-641b90469378",
   "metadata": {},
   "outputs": [],
   "source": [
    "# Split the data again with the updated target\n",
    "X_train, X_test, y_train, y_test = train_test_split(processed_features, target_binary, test_size=0.3, random_state=42)"
   ]
  },
  {
   "cell_type": "code",
   "execution_count": 115,
   "id": "ae150fb3-51c5-43a8-b0bd-42ad5978cca7",
   "metadata": {},
   "outputs": [
    {
     "name": "stderr",
     "output_type": "stream",
     "text": [
      "C:\\Users\\SREERAG\\anaconda3\\Lib\\site-packages\\xgboost\\core.py:158: UserWarning: [00:18:38] WARNING: C:\\buildkite-agent\\builds\\buildkite-windows-cpu-autoscaling-group-i-0ed59c031377d09b8-1\\xgboost\\xgboost-ci-windows\\src\\learner.cc:740: \n",
      "Parameters: { \"use_label_encoder\" } are not used.\n",
      "\n",
      "  warnings.warn(smsg, UserWarning)\n"
     ]
    }
   ],
   "source": [
    "# Re-run the model training and evaluation for XGBoost\n",
    "xgb_model = xgb.XGBClassifier(use_label_encoder=False, eval_metric='logloss', random_state=42)\n",
    "xgb_model.fit(X_train, y_train)\n",
    "y_pred_xgb = xgb_model.predict(X_test)\n",
    "model_results['XGBoost'] = {\n",
    "    'accuracy': accuracy_score(y_test, y_pred_xgb),\n",
    "    'classification_report': classification_report(y_test, y_pred_xgb)\n",
    "}"
   ]
  },
  {
   "cell_type": "code",
   "execution_count": 116,
   "id": "8ca7a021-add2-4a75-b244-da5971b41240",
   "metadata": {},
   "outputs": [
    {
     "data": {
      "text/plain": [
       "{'Logistic Regression': {'accuracy': 0.8021769995267393,\n",
       "  'classification_report': '              precision    recall  f1-score   support\\n\\n          No       0.84      0.91      0.87      1539\\n         Yes       0.68      0.52      0.59       574\\n\\n    accuracy                           0.80      2113\\n   macro avg       0.76      0.71      0.73      2113\\nweighted avg       0.79      0.80      0.79      2113\\n'},\n",
       " 'Random Forest': {'accuracy': 0.7865593942262187,\n",
       "  'classification_report': '              precision    recall  f1-score   support\\n\\n          No       0.82      0.91      0.86      1539\\n         Yes       0.65      0.46      0.54       574\\n\\n    accuracy                           0.79      2113\\n   macro avg       0.73      0.69      0.70      2113\\nweighted avg       0.77      0.79      0.77      2113\\n'},\n",
       " 'SVM': {'accuracy': 0.7941315664931378,\n",
       "  'classification_report': '              precision    recall  f1-score   support\\n\\n          No       0.82      0.92      0.87      1539\\n         Yes       0.68      0.45      0.54       574\\n\\n    accuracy                           0.79      2113\\n   macro avg       0.75      0.69      0.71      2113\\nweighted avg       0.78      0.79      0.78      2113\\n'},\n",
       " 'XGBoost': {'accuracy': 0.7889256980596309,\n",
       "  'classification_report': '              precision    recall  f1-score   support\\n\\n           0       0.84      0.88      0.86      1539\\n           1       0.63      0.53      0.58       574\\n\\n    accuracy                           0.79      2113\\n   macro avg       0.73      0.71      0.72      2113\\nweighted avg       0.78      0.79      0.78      2113\\n'}}"
      ]
     },
     "execution_count": 116,
     "metadata": {},
     "output_type": "execute_result"
    }
   ],
   "source": [
    "# Display model performance results\n",
    "model_results"
   ]
  },
  {
   "cell_type": "code",
   "execution_count": 117,
   "id": "3fe71ef2-542b-4aa7-b473-3ebe878bbe0f",
   "metadata": {},
   "outputs": [
    {
     "data": {
      "text/plain": [
       "{'Logistic Regression': 0.8021769995267393,\n",
       " 'Random Forest': 0.7865593942262187,\n",
       " 'SVM': 0.7941315664931378,\n",
       " 'XGBoost': 0.7889256980596309}"
      ]
     },
     "execution_count": 117,
     "metadata": {},
     "output_type": "execute_result"
    }
   ],
   "source": [
    "# Display the accuracy of all trained models\n",
    "model_accuracies = {model_name: results['accuracy'] for model_name, results in model_results.items()}\n",
    "model_accuracies"
   ]
  },
  {
   "cell_type": "markdown",
   "id": "e1f5fa5c-5127-4590-8c46-3f8a4180885c",
   "metadata": {},
   "source": [
    "The Logistic Regression model performs the best with an accuracy of 80.2%. It outperforms the other models in terms of accuracy.\n",
    "While Logistic Regression is a relatively simple model, it has proven effective for this problem, potentially indicating a well-separated decision boundary for customer churn prediction in this dataset."
   ]
  },
  {
   "cell_type": "code",
   "execution_count": 118,
   "id": "9ea74f54-539a-4309-bb29-b9bcb4edfb6a",
   "metadata": {},
   "outputs": [],
   "source": [
    "from sklearn.svm import SVC\n",
    "from sklearn.metrics import classification_report, accuracy_score, confusion_matrix, roc_auc_score, roc_curve\n",
    "import xgboost as xgb"
   ]
  },
  {
   "cell_type": "code",
   "execution_count": 119,
   "id": "f6c2aaf3-27c1-4417-9bd8-a7f55a1e00b0",
   "metadata": {},
   "outputs": [],
   "source": [
    "# Train different models\n",
    "models = {}\n",
    "\n",
    "# Logistic Regression\n",
    "logistic_model = LogisticRegression(max_iter=1000, random_state=42)\n",
    "logistic_model.fit(X_train, y_train)\n",
    "models['Logistic Regression'] = logistic_model"
   ]
  },
  {
   "cell_type": "code",
   "execution_count": 120,
   "id": "59a23467-8d67-4348-b6e9-b347639f3a64",
   "metadata": {},
   "outputs": [],
   "source": [
    "# Random Forest Classifier\n",
    "rf_model = RandomForestClassifier(n_estimators=100, random_state=42)\n",
    "rf_model.fit(X_train, y_train)\n",
    "models['Random Forest'] = rf_model"
   ]
  },
  {
   "cell_type": "code",
   "execution_count": 121,
   "id": "e85fbc06-91cf-4ab0-a79f-9a4006a94fd3",
   "metadata": {},
   "outputs": [],
   "source": [
    "# Support Vector Machine (SVM)\n",
    "svm_model = SVC(random_state=42, probability=True)\n",
    "svm_model.fit(X_train, y_train)\n",
    "models['SVM'] = svm_model"
   ]
  },
  {
   "cell_type": "code",
   "execution_count": 122,
   "id": "3ccf7dd3-a36f-433f-a895-3feec8cdcd67",
   "metadata": {},
   "outputs": [
    {
     "name": "stderr",
     "output_type": "stream",
     "text": [
      "C:\\Users\\SREERAG\\anaconda3\\Lib\\site-packages\\xgboost\\core.py:158: UserWarning: [00:18:44] WARNING: C:\\buildkite-agent\\builds\\buildkite-windows-cpu-autoscaling-group-i-0ed59c031377d09b8-1\\xgboost\\xgboost-ci-windows\\src\\learner.cc:740: \n",
      "Parameters: { \"use_label_encoder\" } are not used.\n",
      "\n",
      "  warnings.warn(smsg, UserWarning)\n"
     ]
    }
   ],
   "source": [
    "# XGBoost Classifier\n",
    "xgb_model = xgb.XGBClassifier(use_label_encoder=False, eval_metric='logloss', random_state=42)\n",
    "xgb_model.fit(X_train, y_train)\n",
    "models['XGBoost'] = xgb_model"
   ]
  },
  {
   "cell_type": "code",
   "execution_count": 123,
   "id": "7d92d248-082b-4329-a982-139c7aea9486",
   "metadata": {},
   "outputs": [],
   "source": [
    "# Evaluate models\n",
    "model_evaluation = {}"
   ]
  },
  {
   "cell_type": "code",
   "execution_count": 124,
   "id": "b0a7e42c-ac91-4b59-96d0-ce4fd4c0b1b0",
   "metadata": {},
   "outputs": [
    {
     "data": {
      "image/png": "[encoded data removed]",
      "text/plain": [
       "<Figure size 1000x600 with 1 Axes>"
      ]
     },
     "metadata": {},
     "output_type": "display_data"
    }
   ],
   "source": [
    "# Iterate through each model to evaluate\n",
    "plt.figure(figsize=(10, 6))\n",
    "for model_name, model in models.items():\n",
    "    # Predict probabilities and classes\n",
    "    y_proba = model.predict_proba(X_test)[:, 1] if hasattr(model, \"predict_proba\") else model.decision_function(X_test)\n",
    "    y_pred = model.predict(X_test)\n",
    "\n",
    "# Calculate metrics\n",
    "    conf_matrix = confusion_matrix(y_test, y_pred)\n",
    "    precision = classification_report(y_test, y_pred, output_dict=True)['weighted avg']['precision']\n",
    "    recall = classification_report(y_test, y_pred, output_dict=True)['weighted avg']['recall']\n",
    "    f1_score = classification_report(y_test, y_pred, output_dict=True)['weighted avg']['f1-score']\n",
    "    auc_score = roc_auc_score(y_test, y_proba)\n",
    "     # Store metrics in the dictionary\n",
    "    model_evaluation[model_name] = {\n",
    "        'Confusion Matrix': conf_matrix,\n",
    "        'Precision': precision,\n",
    "        'Recall': recall,\n",
    "        'F1 Score': f1_score,\n",
    "        'AUC Score': auc_score\n",
    "    }\n",
    "\n",
    "# Plot ROC Curve with label\n",
    "    fpr, tpr, _ = roc_curve(y_test, y_proba)\n",
    "    plt.plot(fpr, tpr, label=f'{model_name} (AUC = {auc_score:.2f})')\n",
    "\n",
    "# Plot the ROC Curve for all models\n",
    "plt.plot([0, 1], [0, 1], linestyle='--', color='gray', label='Random Guess')\n",
    "plt.xlabel('False Positive Rate')\n",
    "plt.ylabel('True Positive Rate')\n",
    "plt.title('ROC Curves for Different Models')\n",
    "plt.legend()\n",
    "plt.grid()\n",
    "plt.show()"
   ]
  },
  {
   "cell_type": "code",
   "execution_count": 125,
   "id": "06e013b4-2076-4770-a06b-e14cccffdbb5",
   "metadata": {},
   "outputs": [
    {
     "data": {
      "text/plain": [
       "{'Logistic Regression': {'Confusion Matrix': array([[1396,  143],\n",
       "         [ 275,  299]], dtype=int64),\n",
       "  'Precision': 0.7922468700889949,\n",
       "  'Recall': 0.8021769995267393,\n",
       "  'F1 Score': 0.7933936815978598,\n",
       "  'AUC Score': 0.8564195040446645},\n",
       " 'Random Forest': {'Confusion Matrix': array([[1396,  143],\n",
       "         [ 308,  266]], dtype=int64),\n",
       "  'Precision': 0.773371726033793,\n",
       "  'Recall': 0.7865593942262187,\n",
       "  'F1 Score': 0.7740758194787866,\n",
       "  'AUC Score': 0.8288302055952891},\n",
       " 'SVM': {'Confusion Matrix': array([[1419,  120],\n",
       "         [ 315,  259]], dtype=int64),\n",
       "  'Precision': 0.781676502901285,\n",
       "  'Recall': 0.7941315664931378,\n",
       "  'F1 Score': 0.7792021286655457,\n",
       "  'AUC Score': 0.8108052425553494},\n",
       " 'XGBoost': {'Confusion Matrix': array([[1360,  179],\n",
       "         [ 267,  307]], dtype=int64),\n",
       "  'Precision': 0.7804210981438396,\n",
       "  'Recall': 0.7889256980596309,\n",
       "  'F1 Score': 0.7830975627078978,\n",
       "  'AUC Score': 0.83853887202197}}"
      ]
     },
     "execution_count": 125,
     "metadata": {},
     "output_type": "execute_result"
    }
   ],
   "source": [
    "# Display model evaluation metrics\n",
    "model_evaluation"
   ]
  },
  {
   "cell_type": "code",
   "execution_count": 126,
   "id": "c42b11e8-93ec-42bb-afc4-dd846def3b7c",
   "metadata": {},
   "outputs": [
    {
     "data": {
      "image/png": "[encoded data removed]",
      "text/plain": [
       "<Figure size 1400x1000 with 8 Axes>"
      ]
     },
     "metadata": {},
     "output_type": "display_data"
    }
   ],
   "source": [
    "import matplotlib.pyplot as plt\n",
    "import seaborn as sns\n",
    "\n",
    "# Plot the confusion matrices for each model\n",
    "fig, axes = plt.subplots(2, 2, figsize=(14, 10))\n",
    "axes = axes.ravel()  # Flatten the axes array to easily iterate\n",
    "\n",
    "# Iterate through each model and plot its confusion matrix\n",
    "for idx, (model_name, metrics) in enumerate(model_evaluation.items()):\n",
    "    conf_matrix = metrics['Confusion Matrix']\n",
    "    sns.heatmap(conf_matrix, annot=True, fmt='d', cmap='Blues', ax=axes[idx])\n",
    "    axes[idx].set_title(f'Confusion Matrix: {model_name}')\n",
    "    axes[idx].set_xlabel('Predicted Label')\n",
    "    axes[idx].set_ylabel('True Label')\n",
    "\n",
    "plt.tight_layout()\n",
    "plt.show()\n"
   ]
  },
  {
   "cell_type": "markdown",
   "id": "6732fa3b-4668-4165-a42c-46599a17b350",
   "metadata": {},
   "source": [
    "# Model Evaluation"
   ]
  },
  {
   "cell_type": "markdown",
   "id": "2a5fae4a-ef46-4828-89d8-cf2c46e0b559",
   "metadata": {},
   "source": [
    "## Detailed analysis"
   ]
  },
  {
   "cell_type": "markdown",
   "id": "8d52318b-0044-46c2-b3b4-ca0adefe3643",
   "metadata": {},
   "source": [
    "Based on the evaluation of four models—Logistic Regression, Random Forest Classifier, Support Vector Machine (SVM), and XGBoost Classifier—the Logistic Regression model emerged as the best-performing model for predicting customer churn. Logistic Regression achieved the highest overall accuracy and AUC score, demonstrating its effectiveness at correctly predicting outcomes and distinguishing between customers likely to churn and those who are not. Additionally, the model maintained a good balance between precision and recall, indicating its ability to minimize false positives while effectively identifying true churns. This balance is particularly valuable for customer churn prediction, where both false positives (predicting churn when there is none) and false negatives (failing to identify churn) can have significant business consequences.\n",
    "\n",
    "Although XGBoost also performed well, especially in terms of precision and AUC score, it had a slightly lower recall compared to Logistic Regression and is more complex to interpret. In a business setting, model interpretability is important, as understanding why customers are likely to churn helps in creating targeted retention strategies. Random Forest and SVM also provided consistent results but did not outperform Logistic Regression across multiple evaluation metrics. The trade-off between precision and recall was a key factor, and Logistic Regression offered a well-balanced solution, making it an ideal choice for this particular customer churn prediction problem. Its simplicity, high performance, and interpretability make it the most effective model for understanding and mitigating customer churn in this dataset."
   ]
  },
  {
   "cell_type": "markdown",
   "id": "35eedaee-688e-42b5-89ba-9ad78f45f9e2",
   "metadata": {},
   "source": [
    "##  Implications of findings"
   ]
  },
  {
   "cell_type": "markdown",
   "id": "2098a742-5faa-4e5f-a1db-fe16efe34b13",
   "metadata": {},
   "source": [
    "The findings from the model evaluations provide significant insights that can directly inform the company’s retention strategy. The Logistic Regression model was identified as the best-performing model for predicting customer churn, offering both high accuracy and interpretability. This model can be leveraged to create targeted retention campaigns by identifying at-risk customers before they decide to leave. By focusing on customers flagged as likely to churn, the company can allocate resources more efficiently, intervening with tailored offers, discounts, or personalized communication to keep these customers engaged.\n",
    "\n",
    "The interpretability of the Logistic Regression model means that the company can better understand which features most significantly impact churn. For instance, factors like tenure, contract type, monthly charges, or service issues might emerge as important predictors of churn. With this information, the company can develop targeted solutions, such as providing incentives for customers nearing the end of their contracts or addressing service issues that often lead to customer dissatisfaction.\n",
    "\n",
    "Moreover, these insights can also drive proactive engagement strategies. For example, customers in a particular tenure group or with specific usage patterns who are at risk of leaving could be offered loyalty rewards or additional services to boost their satisfaction. The model’s ability to predict churn with good recall allows the company to identify a large portion of potentially at-risk customers, ensuring timely intervention.\n",
    "\n",
    "The company can also use these predictions to inform strategic decisions beyond individual interventions. Insights from the model could be used to identify broader trends in customer behavior, allowing the company to refine its overall service offerings or address common pain points that lead to churn. By focusing efforts on improving services and building loyalty among high-risk groups, the company can not only reduce churn but also enhance overall customer satisfaction and drive long-term growth.To further improve customer retention, the company could develop a feedback loop. This involves monitoring the effectiveness of retention efforts based on the model’s predictions, refining the model as more data becomes available, and continually adjusting intervention strategies. In this way, the predictive model can act as a core tool for a dynamic, data-driven retention strategy aimed at reducing customer churn and promoting customer loyalty."
   ]
  },
  {
   "cell_type": "code",
   "execution_count": null,
   "id": "7132a3bc-3993-4507-959a-1ed295743857",
   "metadata": {},
   "outputs": [],
   "source": []
  },
  {
   "cell_type": "code",
   "execution_count": null,
   "id": "d6f9a4b9-3163-4b99-81bc-ccfa2e341e1a",
   "metadata": {},
   "outputs": [],
   "source": []
  }
 ],
 "metadata": {
  "kernelspec": {
   "display_name": "Python 3 (ipykernel)",
   "language": "python",
   "name": "python3"
  },
  "language_info": {
   "codemirror_mode": {
    "name": "ipython",
    "version": 3
   },
   "file_extension": ".py",
   "mimetype": "text/x-python",
   "name": "python",
   "nbconvert_exporter": "python",
   "pygments_lexer": "ipython3",
   "version": "3.11.7"
  }
 },
 "nbformat": 4,
 "nbformat_minor": 5
}
